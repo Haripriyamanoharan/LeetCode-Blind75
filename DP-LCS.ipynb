{
 "cells": [
  {
   "cell_type": "code",
   "execution_count": 11,
   "id": "15f2c45f",
   "metadata": {},
   "outputs": [],
   "source": [
    "#https://leetcode.com/problems/longest-common-subsequence/description/\n",
    "def longestCommonSubsequence(text1, text2):\n",
    "        l1=len(text1)+1##as column\n",
    "        l2=len(text2)+1##as rows\n",
    "        dp=[[0]*l1 for i in range(0,l2)]\n",
    "        for i in range(1,l2):\n",
    "            for j in range(1,l1):\n",
    "                if(text1[j-1]==text2[i-1]):\n",
    "                    dp[i][j]=dp[i-1][j-1]+1\n",
    "                else:\n",
    "                    dp[i][j]=max(dp[i][j-1],dp[i-1][j])\n",
    "        return dp[l2-1][l1-1]"
   ]
  },
  {
   "cell_type": "code",
   "execution_count": 12,
   "id": "a70d7505",
   "metadata": {},
   "outputs": [
    {
     "data": {
      "text/plain": [
       "3"
      ]
     },
     "execution_count": 12,
     "metadata": {},
     "output_type": "execute_result"
    }
   ],
   "source": [
    "longestCommonSubsequence(\"abcde\",\"ace\")"
   ]
  },
  {
   "cell_type": "code",
   "execution_count": null,
   "id": "b420f03d",
   "metadata": {},
   "outputs": [],
   "source": []
  }
 ],
 "metadata": {
  "kernelspec": {
   "display_name": "Python 3 (ipykernel)",
   "language": "python",
   "name": "python3"
  },
  "language_info": {
   "codemirror_mode": {
    "name": "ipython",
    "version": 3
   },
   "file_extension": ".py",
   "mimetype": "text/x-python",
   "name": "python",
   "nbconvert_exporter": "python",
   "pygments_lexer": "ipython3",
   "version": "3.9.12"
  }
 },
 "nbformat": 4,
 "nbformat_minor": 5
}
