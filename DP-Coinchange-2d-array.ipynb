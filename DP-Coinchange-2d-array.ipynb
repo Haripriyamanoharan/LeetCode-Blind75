{
 "cells": [
  {
   "cell_type": "code",
   "execution_count": 6,
   "id": "60a508a6",
   "metadata": {},
   "outputs": [],
   "source": [
    "import sys\n",
    "def coinChange(coins, amount):\n",
    "        \"\"\"\n",
    "        :type coins: List[int]\n",
    "        :type amount: int\n",
    "        :rtype: int\n",
    "        \"\"\"\n",
    "\n",
    "        #sorting is important\n",
    "        coins.sort()\n",
    "        print(coins)\n",
    "\n",
    "        #initializing all the values to maxsize\n",
    "        dp=[[sys.maxsize]*(amount+1) for i in range(0,len(coins)+1)]\n",
    "\n",
    "        #initializing 1st column to 0 since minimum number of coins to form 0 is 0\n",
    "        for i in range(0,len(coins)+1):\n",
    "            dp[i][0]=0\n",
    "\n",
    "#filling the first row, if the sum is formed by coins[0] then assign number of coins else return infinity if it cannot be formed.\n",
    "        for j in range(1,amount+1):\n",
    "            if(j%coins[0]==0):\n",
    "                dp[1][j]=j/coins[0]\n",
    "            else:\n",
    "                dp[1][j]=sys.maxsize\n",
    "\n",
    "#if the denomination is less than the sum copy the above value else min of above value and 1+remaining denomination sum\n",
    "        for i in range(2,len(coins)+1):\n",
    "            for j in range(1,amount+1):\n",
    "                if(j<coins[i-1]):\n",
    "                    dp[i][j]=dp[i-1][j]\n",
    "                else:\n",
    "                   dp[i][j]=min(1+dp[i][j-coins[i-1]],dp[i-1][j])\n",
    "                    \n",
    "        \n",
    "#if the end value is infinity return -1 else return the value        \n",
    "        if dp[len(coins)][amount]>=sys.maxsize:\n",
    "            return -1\n",
    "        else:\n",
    "            return dp[len(coins)][amount]"
   ]
  },
  {
   "cell_type": "code",
   "execution_count": 7,
   "id": "526764b7",
   "metadata": {},
   "outputs": [
    {
     "name": "stdout",
     "output_type": "stream",
     "text": [
      "[1, 2, 5]\n"
     ]
    },
    {
     "data": {
      "text/plain": [
       "3.0"
      ]
     },
     "execution_count": 7,
     "metadata": {},
     "output_type": "execute_result"
    }
   ],
   "source": [
    "coins=[1,2,5]\n",
    "amount=11\n",
    "coinChange(coins, amount)"
   ]
  },
  {
   "cell_type": "code",
   "execution_count": null,
   "id": "d89c2322",
   "metadata": {},
   "outputs": [],
   "source": []
  }
 ],
 "metadata": {
  "kernelspec": {
   "display_name": "Python 3 (ipykernel)",
   "language": "python",
   "name": "python3"
  },
  "language_info": {
   "codemirror_mode": {
    "name": "ipython",
    "version": 3
   },
   "file_extension": ".py",
   "mimetype": "text/x-python",
   "name": "python",
   "nbconvert_exporter": "python",
   "pygments_lexer": "ipython3",
   "version": "3.9.12"
  }
 },
 "nbformat": 4,
 "nbformat_minor": 5
}
