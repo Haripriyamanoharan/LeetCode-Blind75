{
 "cells": [
  {
   "cell_type": "code",
   "execution_count": 6,
   "id": "0cb2a842",
   "metadata": {},
   "outputs": [],
   "source": [
    "# Definition for a binary tree node.\n",
    "# class TreeNode(object):\n",
    "#     def __init__(self, val=0, left=None, right=None):\n",
    "#         self.val = val\n",
    "#         self.left = left\n",
    "#         self.right = right\n",
    "class Solution(object):\n",
    "    def isValidBST(self, root):\n",
    "        \"\"\"\n",
    "        :type root: TreeNode\n",
    "        :rtype: bool\n",
    "        \"\"\"\n",
    "        return self.validate(root,[])\n",
    "           \n",
    "    def validate(self, root, lst):\n",
    "        if(not root):\n",
    "            return True\n",
    "        if not self.validate(root.left,lst):\n",
    "            return False\n",
    "        if(len(lst)>0 and lst[-1]>=root.val):\n",
    "            return False\n",
    "        lst.append(root.val)\n",
    "        return self.validate(root.right,lst)\n",
    "        "
   ]
  }
 ],
 "metadata": {
  "kernelspec": {
   "display_name": "Python 3 (ipykernel)",
   "language": "python",
   "name": "python3"
  },
  "language_info": {
   "codemirror_mode": {
    "name": "ipython",
    "version": 3
   },
   "file_extension": ".py",
   "mimetype": "text/x-python",
   "name": "python",
   "nbconvert_exporter": "python",
   "pygments_lexer": "ipython3",
   "version": "3.9.12"
  }
 },
 "nbformat": 4,
 "nbformat_minor": 5
}
