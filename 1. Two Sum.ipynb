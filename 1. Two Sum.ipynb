{
 "cells": [
  {
   "cell_type": "code",
   "execution_count": null,
   "id": "f98536dc",
   "metadata": {},
   "outputs": [],
   "source": [
    "https://leetcode.com/problems/two-sum/description/?envType=study-plan&id=level-1\n",
    "    \n",
    "    \n",
    "A simple implementation uses two iterations. \n",
    "In the first iteration, we add each element's value as a key and its index as a value to the hash table. \n",
    "Then, in the second iteration, we check if each element's complement (target−nums[i]target - nums[i]target−nums[i]) exists \n",
    "in the hash table. If it does exist, we return current element's index and its complement's index. \n",
    "Beware that the complement must not be nums[i]nums[i]nums[i] itself!"
   ]
  },
  {
   "cell_type": "code",
   "execution_count": null,
   "id": "7eef0cb6",
   "metadata": {},
   "outputs": [],
   "source": [
    "class Solution(object):\n",
    "    def twoSum(self, nums, target):\n",
    "        \"\"\"\n",
    "        :type nums: List[int]\n",
    "        :type target: int\n",
    "        :rtype: List[int]\n",
    "        \"\"\"\n",
    "        dict1={}\n",
    "        for i in range(0,len(nums)):\n",
    "            dict1[nums[i]]=i\n",
    "        for i in range(0,len(nums)):\n",
    "            diff=target-nums[i]\n",
    "            #diff=abs(diff)\n",
    "            if(diff in dict1 and dict1[diff]!=i):\n",
    "                print(diff,nums[i])\n",
    "                return [i,dict1[diff]]"
   ]
  }
 ],
 "metadata": {
  "kernelspec": {
   "display_name": "Python 3 (ipykernel)",
   "language": "python",
   "name": "python3"
  },
  "language_info": {
   "codemirror_mode": {
    "name": "ipython",
    "version": 3
   },
   "file_extension": ".py",
   "mimetype": "text/x-python",
   "name": "python",
   "nbconvert_exporter": "python",
   "pygments_lexer": "ipython3",
   "version": "3.9.12"
  }
 },
 "nbformat": 4,
 "nbformat_minor": 5
}
