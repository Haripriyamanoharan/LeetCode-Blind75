{
 "cells": [
  {
   "cell_type": "code",
   "execution_count": null,
   "id": "2637f071",
   "metadata": {},
   "outputs": [],
   "source": [
    "https://leetcode.com/problems/minimum-deletions-to-make-character-frequencies-unique/\n",
    "\n",
    "class Solution(object):\n",
    "    def minDeletions(self, s):\n",
    "        \"\"\"\n",
    "        :type s: str\n",
    "        :rtype: int\n",
    "        \"\"\"\n",
    "        dict1={}\n",
    "        rep=[]\n",
    "        deletions=0\n",
    "        new_values=[]\n",
    "        for i in s:\n",
    "            if i not in dict1:\n",
    "                dict1[i]=1\n",
    "            else:\n",
    "                dict1[i]+=1\n",
    "\n",
    "        for keys in dict1:\n",
    "            rep.append(dict1[keys])\n",
    "        \n",
    "        rep.sort()\n",
    "        for i in range(0,len(rep)-1):\n",
    "            if(rep[i]==rep[i+1] ):\n",
    "                temp=0\n",
    "                for j in range(rep[i]-1,-1,-1):\n",
    "                    temp+=1\n",
    "                    if (j not in rep and (j not in new_values) or (j==0)):\n",
    "                        new_values.append(j)\n",
    "                        deletions+=temp\n",
    "                        break\n",
    "        return deletions"
   ]
  }
 ],
 "metadata": {
  "kernelspec": {
   "display_name": "Python 3 (ipykernel)",
   "language": "python",
   "name": "python3"
  },
  "language_info": {
   "codemirror_mode": {
    "name": "ipython",
    "version": 3
   },
   "file_extension": ".py",
   "mimetype": "text/x-python",
   "name": "python",
   "nbconvert_exporter": "python",
   "pygments_lexer": "ipython3",
   "version": "3.9.12"
  }
 },
 "nbformat": 4,
 "nbformat_minor": 5
}
