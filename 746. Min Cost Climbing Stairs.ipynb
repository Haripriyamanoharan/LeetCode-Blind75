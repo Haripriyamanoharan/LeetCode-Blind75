{
 "cells": [
  {
   "cell_type": "code",
   "execution_count": null,
   "id": "326c0868",
   "metadata": {},
   "outputs": [],
   "source": [
    "https://leetcode.com/problems/min-cost-climbing-stairs/description/?envType=study-plan&id=level-1\n",
    "    \n",
    "#https://www.google.com/search?q=min+cost+climbing+stairs&rlz=1C1RXQR_enIN1006IN1006&oq=Min+Cost+Climbing+Stairs&aqs=chrome.0.0i512l6j69i60l2.1105j0j9&sourceid=chrome&ie=UTF-8#fpstate=ive&vld=cid:675240fa,vid:ktmzAZWkEZ0\n"
   ]
  },
  {
   "cell_type": "code",
   "execution_count": null,
   "id": "7f492a92",
   "metadata": {},
   "outputs": [],
   "source": [
    "class Solution(object):\n",
    "    def minCostClimbingStairs(self, cost):\n",
    "        \"\"\"\n",
    "        :type cost: List[int]\n",
    "        :rtype: int\n",
    "        \"\"\"\n",
    "        pay=0\n",
    "        cost.append(0)\n",
    "        start=len(cost)-2\n",
    "        for i in range(start,-1,-1):\n",
    "            temp1=cost[i]+cost[i+1]\n",
    "            temp2=float('inf')\n",
    "            if(i+2<len(cost)):\n",
    "                temp2=cost[i]+cost[i+2]\n",
    "            cost[i]=min(temp1,temp2)\n",
    "        return min(cost[0],cost[1])\n",
    "\n"
   ]
  }
 ],
 "metadata": {
  "kernelspec": {
   "display_name": "Python 3 (ipykernel)",
   "language": "python",
   "name": "python3"
  },
  "language_info": {
   "codemirror_mode": {
    "name": "ipython",
    "version": 3
   },
   "file_extension": ".py",
   "mimetype": "text/x-python",
   "name": "python",
   "nbconvert_exporter": "python",
   "pygments_lexer": "ipython3",
   "version": "3.9.12"
  }
 },
 "nbformat": 4,
 "nbformat_minor": 5
}
