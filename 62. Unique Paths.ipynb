{
 "cells": [
  {
   "cell_type": "code",
   "execution_count": null,
   "id": "90207f9c",
   "metadata": {},
   "outputs": [],
   "source": [
    "https://leetcode.com/problems/unique-paths/description/?envType=study-plan&id=level-1\n",
    "    \n",
    "    https://www.google.com/search?q=unique+paths&rlz=1C1RXQR_enIN1006IN1006&oq=Unique+Paths&aqs=chrome.0.0i512l6j69i60l2.2872j0j9&sourceid=chrome&ie=UTF-8#fpstate=ive&vld=cid:2e106087,vid:IlEsdxuD4lY"
   ]
  },
  {
   "cell_type": "code",
   "execution_count": null,
   "id": "7e5afad1",
   "metadata": {},
   "outputs": [],
   "source": [
    "class Solution(object):\n",
    "    def uniquePaths(self, m, n):\n",
    "        \"\"\"\n",
    "        :type m: int\n",
    "        :type n: int\n",
    "        :rtype: int\n",
    "        \"\"\"\n",
    "        dp=[[0]*n for i in range(m)]\n",
    "        for i in range(m-1,-1,-1):\n",
    "            for j in range(n-1,-1,-1):\n",
    "                if(i==m-1 and j==n-1):\n",
    "                    dp[i][j]=1\n",
    "                    continue\n",
    "                if(j+1>=n and i+1<m):\n",
    "                    dp[i][j]=0+dp[i+1][j]\n",
    "                elif(i+1>=m and j+1<n):\n",
    "                    dp[i][j]=0+dp[i][j+1]\n",
    "                else:\n",
    "                    dp[i][j]=dp[i+1][j]+dp[i][j+1]\n",
    "        return dp[0][0]\n"
   ]
  }
 ],
 "metadata": {
  "kernelspec": {
   "display_name": "Python 3 (ipykernel)",
   "language": "python",
   "name": "python3"
  },
  "language_info": {
   "codemirror_mode": {
    "name": "ipython",
    "version": 3
   },
   "file_extension": ".py",
   "mimetype": "text/x-python",
   "name": "python",
   "nbconvert_exporter": "python",
   "pygments_lexer": "ipython3",
   "version": "3.9.12"
  }
 },
 "nbformat": 4,
 "nbformat_minor": 5
}
