{
 "cells": [
  {
   "cell_type": "code",
   "execution_count": null,
   "id": "63b9f08b",
   "metadata": {},
   "outputs": [],
   "source": [
    "\n",
    "https://leetcode.com/problems/linked-list-cycle-ii/description/?envType=study-plan&id=level-1\n",
    "#Definition for singly-linked list.\n",
    "# class ListNode(object):\n",
    "#     def __init__(self, x):\n",
    "#         self.val = x\n",
    "#         self.next = None\n",
    "\n",
    "class Solution(object):\n",
    "    def detectCycle(self, head):\n",
    "        \"\"\"\n",
    "        :type head: ListNode\n",
    "        :rtype: ListNode\n",
    "        \"\"\"\n",
    "        slow=head\n",
    "        fast=head\n",
    "        cycle=0\n",
    "        while(fast and fast.next):\n",
    "            slow=slow.next\n",
    "            fast=fast.next.next\n",
    "            if(slow==fast):\n",
    "                cycle=1\n",
    "                break\n",
    "        if(cycle==0):\n",
    "            return None\n",
    "        slow=head\n",
    "        while(slow!=fast):\n",
    "            slow=slow.next\n",
    "            fast=fast.next\n",
    "        return slow"
   ]
  }
 ],
 "metadata": {
  "kernelspec": {
   "display_name": "Python 3 (ipykernel)",
   "language": "python",
   "name": "python3"
  },
  "language_info": {
   "codemirror_mode": {
    "name": "ipython",
    "version": 3
   },
   "file_extension": ".py",
   "mimetype": "text/x-python",
   "name": "python",
   "nbconvert_exporter": "python",
   "pygments_lexer": "ipython3",
   "version": "3.9.12"
  }
 },
 "nbformat": 4,
 "nbformat_minor": 5
}
