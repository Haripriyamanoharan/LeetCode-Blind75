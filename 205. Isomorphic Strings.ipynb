{
 "cells": [
  {
   "cell_type": "code",
   "execution_count": null,
   "id": "22613093",
   "metadata": {},
   "outputs": [],
   "source": [
    "https://leetcode.com/problems/isomorphic-strings/description/?envType=study-plan&id=level-1\n",
    "\n",
    "class Solution(object):\n",
    "    def isIsomorphic(self, s, t):\n",
    "        \"\"\"\n",
    "        :type s: str\n",
    "        :type t: str\n",
    "        :rtype: bool\n",
    "        \"\"\"\n",
    "        dict1={}\n",
    "        for (i,j) in zip(s,t):\n",
    "            if i not in dict1 and (j not in dict1.values()):\n",
    "                dict1[i]=j\n",
    "            else:  \n",
    "                if(i not in dict1 and (j in dict1.values())):\n",
    "                    return False\n",
    "                elif(j!=dict1[i]):\n",
    "                    return False\n",
    "                    \n",
    "        return True\n",
    "\n"
   ]
  }
 ],
 "metadata": {
  "kernelspec": {
   "display_name": "Python 3 (ipykernel)",
   "language": "python",
   "name": "python3"
  },
  "language_info": {
   "codemirror_mode": {
    "name": "ipython",
    "version": 3
   },
   "file_extension": ".py",
   "mimetype": "text/x-python",
   "name": "python",
   "nbconvert_exporter": "python",
   "pygments_lexer": "ipython3",
   "version": "3.9.12"
  }
 },
 "nbformat": 4,
 "nbformat_minor": 5
}
