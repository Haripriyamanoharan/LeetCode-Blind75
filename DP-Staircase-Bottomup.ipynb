{
 "cells": [
  {
   "cell_type": "code",
   "execution_count": 3,
   "id": "da2638cb",
   "metadata": {},
   "outputs": [
    {
     "name": "stdout",
     "output_type": "stream",
     "text": [
      "2\n"
     ]
    }
   ],
   "source": [
    "def climbStairs(n):\n",
    "        ####Base Condition###\n",
    "        #declaring the list with 0\n",
    "        dp=[0]*(n+1)\n",
    "        #base condition\n",
    "        dp[n]=1\n",
    "        dp[n-1]=1\n",
    "        for i in range(n-2,-1,-1):\n",
    "            dp[i]=dp[i+1] + dp[i+2]\n",
    "        return dp[0]\n",
    "\n",
    "no_of_ways=climbStairs(2)\n",
    "print(no_of_ways)"
   ]
  },
  {
   "cell_type": "code",
   "execution_count": null,
   "id": "d04caf77",
   "metadata": {},
   "outputs": [],
   "source": []
  }
 ],
 "metadata": {
  "kernelspec": {
   "display_name": "Python 3 (ipykernel)",
   "language": "python",
   "name": "python3"
  },
  "language_info": {
   "codemirror_mode": {
    "name": "ipython",
    "version": 3
   },
   "file_extension": ".py",
   "mimetype": "text/x-python",
   "name": "python",
   "nbconvert_exporter": "python",
   "pygments_lexer": "ipython3",
   "version": "3.9.12"
  }
 },
 "nbformat": 4,
 "nbformat_minor": 5
}
