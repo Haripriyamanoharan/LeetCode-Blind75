{
 "cells": [
  {
   "cell_type": "code",
   "execution_count": 6,
   "id": "407b173f",
   "metadata": {},
   "outputs": [],
   "source": [
    "https://leetcode.com/problems/longest-palindrome/description/?envType=study-plan&id=level-1\n",
    "class Solution(object):\n",
    "    def longestPalindrome(self, s):\n",
    "        \"\"\"\n",
    "        :type s: str\n",
    "        :rtype: int\n",
    "        \"\"\"\n",
    "        dict1={}\n",
    "        for i in s:\n",
    "            if i not in dict1:\n",
    "                dict1[i]=1\n",
    "            else:\n",
    "                dict1[i]+=1\n",
    "        lst=dict1.values()\n",
    "        cnt=0\n",
    "        flag=0\n",
    "        for i in lst:\n",
    "            if(i%2==0):\n",
    "                cnt+=i\n",
    "            else:\n",
    "                flag=1\n",
    "                cnt+=(i-1)\n",
    "        if(flag==1):\n",
    "            cnt+=1\n",
    "        return cnt\n",
    "\n",
    "\n",
    "        \n",
    "        "
   ]
  },
  {
   "cell_type": "code",
   "execution_count": null,
   "id": "ecb2f9f7",
   "metadata": {},
   "outputs": [],
   "source": []
  }
 ],
 "metadata": {
  "kernelspec": {
   "display_name": "Python 3 (ipykernel)",
   "language": "python",
   "name": "python3"
  },
  "language_info": {
   "codemirror_mode": {
    "name": "ipython",
    "version": 3
   },
   "file_extension": ".py",
   "mimetype": "text/x-python",
   "name": "python",
   "nbconvert_exporter": "python",
   "pygments_lexer": "ipython3",
   "version": "3.9.12"
  }
 },
 "nbformat": 4,
 "nbformat_minor": 5
}
