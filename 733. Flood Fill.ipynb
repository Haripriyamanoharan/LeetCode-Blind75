{
 "cells": [
  {
   "cell_type": "code",
   "execution_count": 6,
   "id": "f85f9145",
   "metadata": {},
   "outputs": [],
   "source": [
    "https://leetcode.com/problems/flood-fill/description/?envType=study-plan&id=level-1\n",
    "\n",
    "class Solution(object):\n",
    "    def floodFill(self, image, sr, sc, color):\n",
    "        \"\"\"\n",
    "        :type image: List[List[int]]\n",
    "        :type sr: int\n",
    "        :type sc: int\n",
    "        :type color: int\n",
    "        :rtype: List[List[int]]\n",
    "        \"\"\"\n",
    "        row,col=len(image), len(image[0])\n",
    "        source_color=image[sr][sc]\n",
    "        if(source_color==color):\n",
    "            return image\n",
    "        def dfs(r,c):\n",
    "            if(image[r][c]==source_color):\n",
    "                image[r][c]=color\n",
    "                if(r>=1):\n",
    "                    dfs(r-1,c)\n",
    "                if(r+1<row):\n",
    "                    dfs(r+1,c)\n",
    "                if(c>=1):\n",
    "                    dfs(r,c-1)\n",
    "                if(c+1<col):\n",
    "                    dfs(r,c+1)\n",
    "        dfs(sr,sc)\n",
    "        return image\n",
    "\n",
    "\n",
    "\n"
   ]
  }
 ],
 "metadata": {
  "kernelspec": {
   "display_name": "Python 3 (ipykernel)",
   "language": "python",
   "name": "python3"
  },
  "language_info": {
   "codemirror_mode": {
    "name": "ipython",
    "version": 3
   },
   "file_extension": ".py",
   "mimetype": "text/x-python",
   "name": "python",
   "nbconvert_exporter": "python",
   "pygments_lexer": "ipython3",
   "version": "3.9.12"
  }
 },
 "nbformat": 4,
 "nbformat_minor": 5
}
