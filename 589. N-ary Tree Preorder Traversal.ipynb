{
 "cells": [
  {
   "cell_type": "code",
   "execution_count": 6,
   "id": "f45f114e",
   "metadata": {},
   "outputs": [],
   "source": [
    "https://leetcode.com/problems/n-ary-tree-preorder-traversal/description/?envType=study-plan&id=level-1\n",
    "\"\"\"\n",
    "# Definition for a Node.\n",
    "class Node(object):\n",
    "    def __init__(self, val=None, children=None):\n",
    "        self.val = val\n",
    "        self.children = children\n",
    "\"\"\"\n",
    "\n",
    "class Solution(object):\n",
    "    def preorder(self, root):\n",
    "        \"\"\"\n",
    "        :type root: Node\n",
    "        :rtype: List[int]\n",
    "        \"\"\"\n",
    "        lst=[]\n",
    "        return self.dfs(root,lst)\n",
    "    def dfs(self,root,lst):\n",
    "        if(root is None):\n",
    "            return \n",
    "        lst.append(root.val)\n",
    "        for node in root.children:\n",
    "            self.dfs(node,lst)\n",
    "        return lst"
   ]
  },
  {
   "cell_type": "code",
   "execution_count": null,
   "id": "c6d19bb3",
   "metadata": {},
   "outputs": [],
   "source": []
  }
 ],
 "metadata": {
  "kernelspec": {
   "display_name": "Python 3 (ipykernel)",
   "language": "python",
   "name": "python3"
  },
  "language_info": {
   "codemirror_mode": {
    "name": "ipython",
    "version": 3
   },
   "file_extension": ".py",
   "mimetype": "text/x-python",
   "name": "python",
   "nbconvert_exporter": "python",
   "pygments_lexer": "ipython3",
   "version": "3.9.12"
  }
 },
 "nbformat": 4,
 "nbformat_minor": 5
}
