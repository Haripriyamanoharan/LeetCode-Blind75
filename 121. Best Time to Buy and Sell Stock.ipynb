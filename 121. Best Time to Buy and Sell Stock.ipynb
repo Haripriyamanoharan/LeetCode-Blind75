{
 "cells": [
  {
   "cell_type": "code",
   "execution_count": 6,
   "id": "cb62dd0c",
   "metadata": {},
   "outputs": [],
   "source": [
    "#https://leetcode.com/problems/best-time-to-buy-and-sell-stock/description/?envType=study-plan&id=level-1\n",
    "\n",
    "class Solution(object):\n",
    "    def maxProfit(self, prices):\n",
    "        \"\"\"\n",
    "        :type prices: List[int]\n",
    "        :rtype: int\n",
    "        \"\"\"\n",
    "        min_price=float('inf')\n",
    "        max_profit=0\n",
    "#min price to buy, elif condition is to sell with profit\n",
    "        for i in range(0,len(prices)):\n",
    "            if(prices[i]<min_price):\n",
    "                min_price=prices[i]\n",
    "            elif(prices[i]-min_price>max_profit):\n",
    "                max_profit=prices[i]-min_price\n",
    "        return max_profit\n",
    "#        profit=[]\n",
    "#        for i in range(0,len(prices)-1):\n",
    "#            temp=prices[i+1:]\n",
    "#            max1=max(temp)\n",
    "#            profit.append(max1-prices[i])\n",
    "#        if(len(profit)==0):\n",
    "#            return 0\n",
    "#        max1=max(profit)\n",
    "#        if(max1<=0):\n",
    "#            return 0\n",
    "#        else:\n",
    "#            return max1\n",
    "\n",
    "        "
   ]
  },
  {
   "cell_type": "code",
   "execution_count": 8,
   "id": "33b9b2e4",
   "metadata": {},
   "outputs": [
    {
     "name": "stdout",
     "output_type": "stream",
     "text": [
      "4\n"
     ]
    }
   ],
   "source": [
    "print(maxProfit([3,7,1,2]))"
   ]
  },
  {
   "cell_type": "code",
   "execution_count": null,
   "id": "bb69cdae",
   "metadata": {},
   "outputs": [],
   "source": []
  }
 ],
 "metadata": {
  "kernelspec": {
   "display_name": "Python 3 (ipykernel)",
   "language": "python",
   "name": "python3"
  },
  "language_info": {
   "codemirror_mode": {
    "name": "ipython",
    "version": 3
   },
   "file_extension": ".py",
   "mimetype": "text/x-python",
   "name": "python",
   "nbconvert_exporter": "python",
   "pygments_lexer": "ipython3",
   "version": "3.9.12"
  }
 },
 "nbformat": 4,
 "nbformat_minor": 5
}
