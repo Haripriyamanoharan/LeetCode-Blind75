{
 "cells": [
  {
   "cell_type": "code",
   "execution_count": 9,
   "id": "09281129",
   "metadata": {},
   "outputs": [],
   "source": [
    "#https://leetcode.com/problems/longest-increasing-subsequence/description/\n",
    "def lengthOfLIS(nums):\n",
    "       lis=[1]*len(nums)\n",
    "       for i in range(1,len(nums)):\n",
    "           for j in range(0,i):\n",
    "               #the second condition is to take max(1,1+lis[previous array values])\n",
    "               if(nums[i]>nums[j] and lis[i]<lis[j]+1):\n",
    "                   lis[i]=lis[j]+1\n",
    "       max1=max(lis)\n",
    "       return max1"
   ]
  },
  {
   "cell_type": "code",
   "execution_count": 10,
   "id": "25ec34dd",
   "metadata": {},
   "outputs": [
    {
     "data": {
      "text/plain": [
       "4"
      ]
     },
     "execution_count": 10,
     "metadata": {},
     "output_type": "execute_result"
    }
   ],
   "source": [
    "lengthOfLIS([2,3,7,101])"
   ]
  },
  {
   "cell_type": "code",
   "execution_count": null,
   "id": "71855cc1",
   "metadata": {},
   "outputs": [],
   "source": []
  }
 ],
 "metadata": {
  "kernelspec": {
   "display_name": "Python 3 (ipykernel)",
   "language": "python",
   "name": "python3"
  },
  "language_info": {
   "codemirror_mode": {
    "name": "ipython",
    "version": 3
   },
   "file_extension": ".py",
   "mimetype": "text/x-python",
   "name": "python",
   "nbconvert_exporter": "python",
   "pygments_lexer": "ipython3",
   "version": "3.9.12"
  }
 },
 "nbformat": 4,
 "nbformat_minor": 5
}
