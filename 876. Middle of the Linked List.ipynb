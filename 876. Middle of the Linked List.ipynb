{
 "cells": [
  {
   "cell_type": "code",
   "execution_count": null,
   "id": "f4121a3f",
   "metadata": {},
   "outputs": [],
   "source": [
    "https://leetcode.com/problems/middle-of-the-linked-list/?envType=study-plan&id=level-1\n",
    "# Definition for singly-linked list.\n",
    "# class ListNode(object):\n",
    "#     def __init__(self, val=0, next=None):\n",
    "#         self.val = val\n",
    "#         self.next = next\n",
    "class Solution(object):\n",
    "    def middleNode(self, head):\n",
    "        \"\"\"\n",
    "        :type head: ListNode\n",
    "        :rtype: ListNode\n",
    "        \"\"\"\n",
    "        fast=head\n",
    "        slow=head\n",
    "        while(1):\n",
    "            if(fast.next is None):\n",
    "                return slow\n",
    "            elif(fast.next.next is None):\n",
    "                return slow.next\n",
    "            fast=fast.next.next\n",
    "            slow=slow.next\n",
    "\n",
    "        "
   ]
  }
 ],
 "metadata": {
  "kernelspec": {
   "display_name": "Python 3 (ipykernel)",
   "language": "python",
   "name": "python3"
  },
  "language_info": {
   "codemirror_mode": {
    "name": "ipython",
    "version": 3
   },
   "file_extension": ".py",
   "mimetype": "text/x-python",
   "name": "python",
   "nbconvert_exporter": "python",
   "pygments_lexer": "ipython3",
   "version": "3.9.12"
  }
 },
 "nbformat": 4,
 "nbformat_minor": 5
}
