{
 "cells": [
  {
   "cell_type": "code",
   "execution_count": 6,
   "id": "8560aacf",
   "metadata": {},
   "outputs": [],
   "source": [
    "https://leetcode.com/problems/binary-search/description/?envType=study-plan&id=level-1\n",
    "class Solution(object):\n",
    "    def search(self, nums, target):\n",
    "        \"\"\"\n",
    "        :type nums: List[int]\n",
    "        :type target: int\n",
    "        :rtype: int\n",
    "        \"\"\"\n",
    "        left=0\n",
    "        right=len(nums)-1\n",
    "        while(left<=right):#watch out equal to\n",
    "            mid=int(floor((left+right)/2))#conversion to int\n",
    "            print(mid,target,nums[mid])\n",
    "            if(target==nums[mid]):\n",
    "                return mid\n",
    "            elif(target<nums[mid]):\n",
    "                right=mid-1\n",
    "            else:\n",
    "                left=mid+1\n",
    "        return -1\n"
   ]
  }
 ],
 "metadata": {
  "kernelspec": {
   "display_name": "Python 3 (ipykernel)",
   "language": "python",
   "name": "python3"
  },
  "language_info": {
   "codemirror_mode": {
    "name": "ipython",
    "version": 3
   },
   "file_extension": ".py",
   "mimetype": "text/x-python",
   "name": "python",
   "nbconvert_exporter": "python",
   "pygments_lexer": "ipython3",
   "version": "3.9.12"
  }
 },
 "nbformat": 4,
 "nbformat_minor": 5
}
