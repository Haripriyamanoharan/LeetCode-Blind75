{
 "cells": [
  {
   "cell_type": "code",
   "execution_count": 6,
   "id": "014538de",
   "metadata": {},
   "outputs": [],
   "source": [
    "https://leetcode.com/problems/binary-tree-level-order-traversal/description/?envType=study-plan&id=level-1\n",
    "# Definition for a binary tree node.\n",
    "# class TreeNode(object):\n",
    "#     def __init__(self, val=0, left=None, right=None):\n",
    "#         self.val = val\n",
    "#         self.left = left\n",
    "#         self.right = right\n",
    "class Solution(object):\n",
    "    def levelOrder(self, root):\n",
    "        \"\"\"\n",
    "        :type root: TreeNode\n",
    "        :rtype: List[List[int]]\n",
    "        \"\"\"\n",
    "        main_lst=[]\n",
    "        queue_temp=[root]\n",
    "        temp=[]\n",
    "        temp_val=[]\n",
    "        if(root is None):\n",
    "            return []\n",
    "        main_lst.append([root.val])\n",
    "        while(queue_temp):\n",
    "            node=queue_temp.pop(0)\n",
    "            if(node.left is not None):\n",
    "                temp.append(node.left)\n",
    "                temp_val.append(node.left.val)\n",
    "            if(node.right is not None):\n",
    "                temp.append(node.right)\n",
    "                temp_val.append(node.right.val)\n",
    "            if(len(queue_temp) == 0):\n",
    "                if(len(temp_val)!=0):\n",
    "                    main_lst.append(temp_val)\n",
    "                queue_temp=temp\n",
    "                temp=[]\n",
    "                temp_val=[]\n",
    "        return main_lst\n"
   ]
  }
 ],
 "metadata": {
  "kernelspec": {
   "display_name": "Python 3 (ipykernel)",
   "language": "python",
   "name": "python3"
  },
  "language_info": {
   "codemirror_mode": {
    "name": "ipython",
    "version": 3
   },
   "file_extension": ".py",
   "mimetype": "text/x-python",
   "name": "python",
   "nbconvert_exporter": "python",
   "pygments_lexer": "ipython3",
   "version": "3.9.12"
  }
 },
 "nbformat": 4,
 "nbformat_minor": 5
}
