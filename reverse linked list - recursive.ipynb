{
 "cells": [
  {
   "cell_type": "code",
   "execution_count": null,
   "id": "1c955e18",
   "metadata": {},
   "outputs": [],
   "source": [
    "https://leetcode.com/problems/reverse-linked-list/description/?envType=study-plan&id=level-1\n",
    "# Definition for singly-linked list.\n",
    "# class ListNode(object):\n",
    "#     def __init__(self, val=0, next=None):\n",
    "#         self.val = val\n",
    "#         self.next = next\n",
    "class Solution(object):\n",
    "    def reverseList(self, head):\n",
    "        \"\"\"\n",
    "        :type head: ListNode\n",
    "        :rtype: ListNode\n",
    "        \"\"\"\n",
    "        #if(head is None):\n",
    "        #    return None\n",
    "        #prev=None\n",
    "        #while(head):\n",
    "        #    curr=head\n",
    "        #    head=head.next\n",
    "        #    curr.next=prev\n",
    "        #    prev=curr\n",
    "        #return curr\n",
    "        #####recursive#############\n",
    "        \n",
    "        return self.reverse1(head)\n",
    "    def reverse1(self, curr, prev=None):\n",
    "        if not curr:\n",
    "            return prev\n",
    "        temp=curr.next\n",
    "        curr.next=prev\n",
    "        return self.reverse1(temp,curr)\n",
    "\n",
    "            \n",
    "\n",
    "\n",
    "        "
   ]
  }
 ],
 "metadata": {
  "kernelspec": {
   "display_name": "Python 3 (ipykernel)",
   "language": "python",
   "name": "python3"
  },
  "language_info": {
   "codemirror_mode": {
    "name": "ipython",
    "version": 3
   },
   "file_extension": ".py",
   "mimetype": "text/x-python",
   "name": "python",
   "nbconvert_exporter": "python",
   "pygments_lexer": "ipython3",
   "version": "3.9.12"
  }
 },
 "nbformat": 4,
 "nbformat_minor": 5
}
