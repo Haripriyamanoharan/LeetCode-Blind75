{
 "cells": [
  {
   "cell_type": "code",
   "execution_count": null,
   "id": "1eaf766e",
   "metadata": {},
   "outputs": [],
   "source": [
    "https://leetcode.com/problems/is-subsequence/description/?envType=study-plan&id=level-1\n",
    "class Solution(object):\n",
    "    def isSubsequence(self, s, t):\n",
    "        \"\"\"\n",
    "        :type s: str\n",
    "        :type t: str\n",
    "        :rtype: bool\n",
    "        \"\"\"\n",
    "        pointer=0\n",
    "        cnt=0\n",
    "        temp=0\n",
    "        for i in s:\n",
    "            for j in range(pointer,len(t)):\n",
    "                temp=j\n",
    "                if(i==t[j]):\n",
    "                    cnt+=1\n",
    "                    break\n",
    "            pointer=temp+1\n",
    "        if(cnt==len(s)):\n",
    "            return True\n",
    "        else:\n",
    "            return False"
   ]
  }
 ],
 "metadata": {
  "kernelspec": {
   "display_name": "Python 3 (ipykernel)",
   "language": "python",
   "name": "python3"
  },
  "language_info": {
   "codemirror_mode": {
    "name": "ipython",
    "version": 3
   },
   "file_extension": ".py",
   "mimetype": "text/x-python",
   "name": "python",
   "nbconvert_exporter": "python",
   "pygments_lexer": "ipython3",
   "version": "3.9.12"
  }
 },
 "nbformat": 4,
 "nbformat_minor": 5
}
