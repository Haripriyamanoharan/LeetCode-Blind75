{
 "cells": [
  {
   "cell_type": "code",
   "execution_count": null,
   "id": "d508a6ac",
   "metadata": {},
   "outputs": [],
   "source": [
    "https://leetcode.com/problems/find-pivot-index/description/?envType=study-plan&id=level-1\n",
    "    \n",
    "class Solution(object):\n",
    "    def pivotIndex(self, nums):\n",
    "        \"\"\"\n",
    "        :type nums: List[int]\n",
    "        :rtype: int\n",
    "        \"\"\"\n",
    "        left_sum=0\n",
    "        right_sum=0\n",
    "        for i in range(0,len(nums)):\n",
    "            if(i==0):\n",
    "                left_sum=0\n",
    "                right_sum=sum(nums[1:])\n",
    "                if(left_sum==right_sum):\n",
    "                    return 0\n",
    "            elif(i==len(nums)-1):\n",
    "                right_sum=0\n",
    "                left_sum=sum(nums[0:len(nums)-1])\n",
    "                if(left_sum==right_sum):\n",
    "                    return len(nums)-1\n",
    "            else:\n",
    "                right_sum=sum(nums[i+1:])\n",
    "                left_sum=sum(nums[:i])\n",
    "                if(left_sum==right_sum):\n",
    "                    return i\n",
    "        return -1"
   ]
  }
 ],
 "metadata": {
  "kernelspec": {
   "display_name": "Python 3 (ipykernel)",
   "language": "python",
   "name": "python3"
  },
  "language_info": {
   "codemirror_mode": {
    "name": "ipython",
    "version": 3
   },
   "file_extension": ".py",
   "mimetype": "text/x-python",
   "name": "python",
   "nbconvert_exporter": "python",
   "pygments_lexer": "ipython3",
   "version": "3.9.12"
  }
 },
 "nbformat": 4,
 "nbformat_minor": 5
}
