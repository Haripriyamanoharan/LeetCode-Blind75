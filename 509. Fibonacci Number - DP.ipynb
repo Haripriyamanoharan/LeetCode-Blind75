{
 "cells": [
  {
   "cell_type": "code",
   "execution_count": null,
   "id": "9dead5c5",
   "metadata": {},
   "outputs": [],
   "source": [
    "\n",
    "https://leetcode.com/problems/fibonacci-number/description/?envType=study-plan&id=level-1\n",
    "    \n",
    "class Solution(object):\n",
    "    def fib(self, n):\n",
    "        \"\"\"\n",
    "        :type n: int\n",
    "        :rtype: int\n",
    "        \"\"\"\n",
    "        if(n==1 or n==2):\n",
    "            return 1\n",
    "        elif(n==0):\n",
    "            return 0\n",
    "        a=[0,1,1]\n",
    "        for i in range(3, n+1):\n",
    "            a.append(a[i-1]+a[i-2])\n",
    "        return a[n]"
   ]
  }
 ],
 "metadata": {
  "kernelspec": {
   "display_name": "Python 3 (ipykernel)",
   "language": "python",
   "name": "python3"
  },
  "language_info": {
   "codemirror_mode": {
    "name": "ipython",
    "version": 3
   },
   "file_extension": ".py",
   "mimetype": "text/x-python",
   "name": "python",
   "nbconvert_exporter": "python",
   "pygments_lexer": "ipython3",
   "version": "3.9.12"
  }
 },
 "nbformat": 4,
 "nbformat_minor": 5
}
